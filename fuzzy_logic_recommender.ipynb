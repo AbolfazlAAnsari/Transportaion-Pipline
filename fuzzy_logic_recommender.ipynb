{
 "cells": [
  {
   "cell_type": "code",
   "execution_count": 93,
   "id": "9f5308a8",
   "metadata": {},
   "outputs": [],
   "source": [
    "import numpy as np\n",
    "import skfuzzy as fuzz\n",
    "from skfuzzy import control as ctrl "
   ]
  },
  {
   "cell_type": "code",
   "execution_count": 94,
   "id": "3e3dd68a",
   "metadata": {},
   "outputs": [],
   "source": [
    "# Create fuzzy variables\n",
    "\n",
    "# Inputs\n",
    "Temperature = ctrl.Antecedent(np.arange(0, 101, 1), 'Temperature(F)')\n",
    "Wind_Chill = ctrl.Antecedent(np.arange(0, 101, 1), 'Wind_Chill(F)')\n",
    "Humidity = ctrl.Antecedent(np.arange(0, 101, 1), 'Humidity(%)')\n",
    "Pressure = ctrl.Antecedent(np.arange(0, 101, 1), 'Pressure(in)')\n",
    "Wind_Speed = ctrl.Antecedent(np.arange(0, 101, 1), 'Wind_Speed(mph)')\n",
    "\n",
    "# Outputs\n",
    "Support = ctrl.Consequent(np.arange(0, 1.01, 0.01), 'Support')\n",
    "#Severity = ctrl.Consequent(np.arange(0, 5, 1), 'Severity')\n",
    "\n"
   ]
  },
  {
   "cell_type": "code",
   "execution_count": 95,
   "id": "a44f7d7e",
   "metadata": {},
   "outputs": [],
   "source": [
    "# Define membership functions\n",
    "\n",
    "\n",
    "# Put the dynamic thresholds here to cast fuzy variables\n",
    "\n",
    "\n",
    "# Input Fuzzy Variables:\n",
    "\n",
    "Temperature['minimal'] = fuzz.trimf(Temperature.universe, [0, 0, 46])\n",
    "Temperature['low'] = fuzz.trimf(Temperature.universe, [0, 46, 58])\n",
    "Temperature['moderate'] = fuzz.trimf(Temperature.universe, [46, 58, 69])\n",
    "Temperature['high'] = fuzz.trimf(Temperature.universe, [58, 69, 78.1])\n",
    "Temperature['maximum'] = fuzz.trimf(Temperature.universe, [69, 78.1, 78.1])\n",
    "\n",
    "Wind_Chill['minimal'] = fuzz.trimf(Wind_Chill.universe, [0, 0, 45])\n",
    "Wind_Chill['low'] = fuzz.trimf(Wind_Chill.universe, [0, 45, 60])\n",
    "Wind_Chill['moderate'] = fuzz.trimf(Wind_Chill.universe, [45, 60, 64])\n",
    "Wind_Chill['high'] = fuzz.trimf(Wind_Chill.universe, [60, 64, 76])\n",
    "Wind_Chill['maximum'] = fuzz.trimf(Wind_Chill.universe, [64, 76, 76])\n",
    "\n",
    "Humidity['minimal'] = fuzz.trimf(Humidity.universe, [0, 0, 44])\n",
    "Humidity['low'] = fuzz.trimf(Humidity.universe, [0, 44, 60])\n",
    "Humidity['moderate'] = fuzz.trimf(Humidity.universe, [44, 60, 73])\n",
    "Humidity['high'] = fuzz.trimf(Humidity.universe, [60, 73, 87])\n",
    "Humidity['maximum'] = fuzz.trimf(Humidity.universe, [73, 87, 87])\n",
    "\n",
    "Pressure['minimal'] = fuzz.trimf(Pressure.universe, [0, 0, 29.16])\n",
    "Pressure['low'] = fuzz.trimf(Pressure.universe, [0, 29.16, 29.69])\n",
    "Pressure['moderate'] = fuzz.trimf(Pressure.universe, [29.16, 29.69, 29.91])\n",
    "Pressure['high'] = fuzz.trimf(Pressure.universe, [29.69, 29.91, 30.04])\n",
    "Pressure['maximum'] = fuzz.trimf(Pressure.universe, [29.91, 30.04, 30.04])\n",
    "\n",
    "Wind_Speed['minimal'] = fuzz.trimf(Wind_Speed.universe, [0, 0, 3])\n",
    "Wind_Speed['low'] = fuzz.trimf(Wind_Speed.universe, [0, 3, 6])\n",
    "Wind_Speed['moderate'] = fuzz.trimf(Wind_Speed.universe, [3, 6, 8])\n",
    "Wind_Speed['high'] = fuzz.trimf(Wind_Speed.universe, [6, 8, 12])\n",
    "Wind_Speed['maximum'] = fuzz.trimf(Wind_Speed.universe, [8, 12, 12])\n",
    "\n",
    "Support['rare'] = fuzz.trimf(Support.universe, [0, 0, 0.20])\n",
    "Support['infrequent'] = fuzz.trimf(Support.universe, [0, 0.20, 0.40])\n",
    "Support['occasional'] = fuzz.trimf(Support.universe, [0.20, 0.40, 0.60])\n",
    "Support['frequent'] = fuzz.trimf(Support.universe, [0.40, 0.60, 0.80])\n",
    "Support['very_frequent'] = fuzz.trimf(Support.universe, [0.60, 0.80, 0.80])\n"
   ]
  },
  {
   "cell_type": "code",
   "execution_count": 96,
   "id": "834dff39",
   "metadata": {},
   "outputs": [],
   "source": [
    "# Define fuzzy rules\n",
    "\n",
    "rule1 = ctrl.Rule( Pressure['low'] | Humidity['low'], Support['very_frequent'] )\n",
    "rule2 = ctrl.Rule( Pressure['low'] & Humidity['low'], Support['frequent'])\n",
    "rule3 = ctrl.Rule( Temperature['maximum'] | Wind_Chill['maximum'], Support['occasional'])\n",
    "rule4 = ctrl.Rule( Temperature['maximum'] & Humidity['low'], Support['occasional'])\n",
    "rule5 = ctrl.Rule( Wind_Chill['maximum'], Support['occasional'])\n",
    "rule6 = ctrl.Rule( Wind_Speed['moderate'], Support['infrequent'])\n",
    "rule7 = ctrl.Rule( Wind_Chill['low'] & Humidity['minimal'], Support['infrequent'])\n",
    "rule8 = ctrl.Rule( Pressure['minimal'] & Wind_Speed['low'], Support['infrequent'])\n",
    "rule9 = ctrl.Rule( Wind_Chill['low'] & Temperature['moderate'], Support['rare'])\n",
    "rule10 = ctrl.Rule( Humidity['moderate'] | Pressure['high'], Support['rare'])\n"
   ]
  },
  {
   "cell_type": "code",
   "execution_count": 97,
   "id": "2e61f451",
   "metadata": {},
   "outputs": [],
   "source": [
    "rules = [\n",
    "         rule1, rule2, rule3, \n",
    "         rule4, rule5, rule6, \n",
    "         rule7, rule8, rule9,\n",
    "         rule10\n",
    "        ]"
   ]
  },
  {
   "cell_type": "code",
   "execution_count": 98,
   "id": "64dde0d7",
   "metadata": {},
   "outputs": [],
   "source": [
    "# Create control system\n",
    "\n",
    "system = ctrl.ControlSystem(rules)\n",
    "simulation = ctrl.ControlSystemSimulation(system)"
   ]
  },
  {
   "cell_type": "code",
   "execution_count": 99,
   "id": "7bb738f3",
   "metadata": {},
   "outputs": [
    {
     "data": {
      "text/plain": [
       "float"
      ]
     },
     "execution_count": 99,
     "metadata": {},
     "output_type": "execute_result"
    }
   ],
   "source": [
    "type(69.06)"
   ]
  },
  {
   "cell_type": "code",
   "execution_count": 75,
   "id": "d622bfc8",
   "metadata": {},
   "outputs": [],
   "source": [
    "# Set input values \n",
    "\n",
    "simulation.input['Temperature(F)'] = 69.06\n",
    "simulation.input['Humidity(%)'] = 50\n",
    "\n",
    "simulation.input['Wind_Chill(F)'] = 50\n",
    "simulation.input['Pressure(in)'] = 50\n",
    "simulation.input['Wind_Speed(mph)'] = 5\n"
   ]
  },
  {
   "cell_type": "code",
   "execution_count": 76,
   "id": "380e4501",
   "metadata": {},
   "outputs": [],
   "source": [
    "# Compute fuzzy logic\n",
    "\n",
    "simulation.compute()\n"
   ]
  },
  {
   "cell_type": "code",
   "execution_count": 77,
   "id": "bf9c50f2",
   "metadata": {},
   "outputs": [],
   "source": [
    "# Get output value\n",
    "\n",
    "Support = simulation.output['Support']"
   ]
  },
  {
   "cell_type": "code",
   "execution_count": 78,
   "id": "ee71db87",
   "metadata": {},
   "outputs": [
    {
     "name": "stdout",
     "output_type": "stream",
     "text": [
      "Detected Support: 0.36146532509338447\n"
     ]
    }
   ],
   "source": [
    "print('Detected Support:', Support)"
   ]
  },
  {
   "cell_type": "code",
   "execution_count": 79,
   "id": "9d4a602f",
   "metadata": {},
   "outputs": [],
   "source": [
    "import requests\n",
    "from datetime import datetime, timedelta\n",
    "\n",
    "def get_weather(api_key, lat, lon, timestamp):\n",
    "    base_url = \"http://api.openweathermap.org/data/2.5/weather?\"\n",
    "    complete_url = f\"{base_url}lat={lat}&lon={lon}&appid={api_key}&units=imperial\"\n",
    "    \n",
    "    response = requests.get(complete_url)\n",
    "    data = response.json()\n",
    "\n",
    "    if data[\"cod\"] != \"404\":\n",
    "        main_data = data[\"main\"]\n",
    "        visibility = data[\"visibility\"] / 1609.34  # Convert meters to miles\n",
    "        wind_data = data[\"wind\"]\n",
    "        \n",
    "        temperature_F = main_data[\"temp\"]\n",
    "        humidity_percent = main_data[\"humidity\"]\n",
    "        pressure_inch = main_data[\"pressure\"] / 33.863886666667  # Convert hPa to inches of mercury\n",
    "        visibility_mi = visibility\n",
    "        wind_speed_mph = wind_data[\"speed\"]\n",
    "        \n",
    "        # Additional features\n",
    "        wind_chill_F = data[\"main\"][\"feels_like\"]\n",
    "\n",
    "        weather_info = {\n",
    "            \"Time\": timestamp,\n",
    "            \"Temperature(F)\": temperature_F,\n",
    "            \"Wind_Chill(F)\": wind_chill_F,\n",
    "            \"Humidity(%)\": humidity_percent,\n",
    "            \"Pressure(in)\": pressure_inch,\n",
    "            \"Wind_Speed(mph)\": wind_speed_mph\n",
    "        }\n",
    "        \n",
    "        return weather_info\n",
    "    else:\n",
    "        print(\"City not found or API error\")\n",
    "        return None\n"
   ]
  },
  {
   "cell_type": "code",
   "execution_count": 80,
   "id": "179a91c3",
   "metadata": {},
   "outputs": [
    {
     "data": {
      "text/plain": [
       "{'Time': '2023-08-27 14:14:29',\n",
       " 'Temperature(F)': 69.37,\n",
       " 'Wind_Chill(F)': 70.09,\n",
       " 'Humidity(%)': 87,\n",
       " 'Pressure(in)': 29.825282902159195,\n",
       " 'Wind_Speed(mph)': 8.72}"
      ]
     },
     "execution_count": 80,
     "metadata": {},
     "output_type": "execute_result"
    }
   ],
   "source": [
    "api_key = \"ce060a4759ed58f5151e42ae95b8df59\"\n",
    "latitude = 37.77\n",
    "longitude = 122.41\n",
    "\n",
    "# Calculate timestamp for tomorrow at 12 o'clock midday\n",
    "tomorrow_midday = datetime.now() + timedelta(days=1)\n",
    "tomorrow_midday = tomorrow_midday.replace(hour=12, minute=0, second=0, microsecond=0)\n",
    "timestamp_trip = tomorrow_midday.strftime(\"%Y-%m-%d %H:%M:%S\")\n",
    "timestamp_today = datetime.now().strftime(\"%Y-%m-%d %H:%M:%S\")\n",
    "\n",
    "\n",
    "get_weather(api_key, latitude, longitude, timestamp_today)"
   ]
  },
  {
   "cell_type": "code",
   "execution_count": 89,
   "id": "642ce6a6",
   "metadata": {
    "scrolled": false
   },
   "outputs": [
    {
     "name": "stdout",
     "output_type": "stream",
     "text": [
      "Weather Forecast for the Specified Time Range:\n",
      "Time: 2023-08-27 12:00:00\n",
      "Temperature(F): 69.06\n",
      "Wind_Chill(F): 69.62\n",
      "Humidity(%): 84\n",
      "Pressure(in): 29.825282902159195\n",
      "Wind_Speed(mph): 9.75\n",
      "\n",
      "Time: 2023-08-27 15:00:00\n",
      "Temperature(F): 68.63\n",
      "Wind_Chill(F): 69.24\n",
      "Humidity(%): 86\n",
      "Pressure(in): 29.825282902159195\n",
      "Wind_Speed(mph): 11.74\n",
      "\n",
      "Time: 2023-08-27 18:00:00\n",
      "Temperature(F): 68.58\n",
      "Wind_Chill(F): 69.17\n",
      "Humidity(%): 86\n",
      "Pressure(in): 29.79575291908775\n",
      "Wind_Speed(mph): 10.29\n",
      "\n",
      "Time: 2023-08-27 21:00:00\n",
      "Temperature(F): 70.07\n",
      "Wind_Chill(F): 70.95\n",
      "Humidity(%): 89\n",
      "Pressure(in): 29.73669295294486\n",
      "Wind_Speed(mph): 19.95\n",
      "\n"
     ]
    }
   ],
   "source": [
    "import requests\n",
    "from datetime import datetime, timedelta\n",
    "\n",
    "def get_weather_forecast(api_key, lat, lon, start_time, end_time):\n",
    "    base_url = \"http://api.openweathermap.org/data/2.5/forecast?\"\n",
    "    complete_url = f\"{base_url}lat={lat}&lon={lon}&appid={api_key}&units=imperial\"\n",
    "    \n",
    "    response = requests.get(complete_url)\n",
    "    data = response.json()\n",
    "\n",
    "    if data[\"cod\"] == \"200\":\n",
    "        forecast_list = data[\"list\"]\n",
    "        weather_info_list = []\n",
    "        \n",
    "        for forecast in forecast_list:\n",
    "            forecast_time = datetime.utcfromtimestamp(forecast[\"dt\"])\n",
    "            \n",
    "            # Check if the forecast time is within the desired range\n",
    "            if start_time <= forecast_time <= end_time:\n",
    "                main_data = forecast[\"main\"]\n",
    "                wind_data = forecast[\"wind\"]\n",
    "                \n",
    "                temperature_F = main_data[\"temp\"]\n",
    "                humidity_percent = main_data[\"humidity\"]\n",
    "                pressure_inch = main_data[\"pressure\"] / 33.863886666667  # Convert hPa to inches of mercury\n",
    "                wind_speed_mph = wind_data[\"speed\"]\n",
    "                wind_chill_F = forecast[\"main\"][\"feels_like\"]\n",
    "                \n",
    "                weather_info = {\n",
    "                    \"Time\": forecast_time.strftime(\"%Y-%m-%d %H:%M:%S\"),\n",
    "                    \"Temperature(F)\": temperature_F,\n",
    "                    \"Wind_Chill(F)\": wind_chill_F,\n",
    "                    \"Humidity(%)\": humidity_percent,\n",
    "                    \"Pressure(in)\": pressure_inch,\n",
    "                    \"Wind_Speed(mph)\": wind_speed_mph\n",
    "                }\n",
    "                \n",
    "                weather_info_list.append(weather_info)\n",
    "        \n",
    "        return weather_info_list\n",
    "    else:\n",
    "        print(\"API error\")\n",
    "        return []\n",
    "\n",
    "if __name__ == \"__main__\":\n",
    "    api_key = \"ce060a4759ed58f5151e42ae95b8df59\"\n",
    "    latitude = 37.77\n",
    "    longitude = 122.41\n",
    "    \n",
    "    # Calculate the time range (10 hours before and 10 hours after the input time)\n",
    "    input_time = datetime.now().replace(hour=12, minute=0, second=0, microsecond=0)\n",
    "    start_time = input_time - timedelta(hours=10)\n",
    "    end_time = input_time + timedelta(hours=10)\n",
    "    \n",
    "    weather_data_list = get_weather_forecast(api_key, latitude, longitude, start_time, end_time)\n",
    "    \n",
    "    if weather_data_list:\n",
    "        print(\"Weather Forecast for the Specified Time Range:\")\n",
    "        forecast_values = []\n",
    "        for weather_data in weather_data_list:\n",
    "            forecast_values.append(weather_data)\n",
    "            for key, value in weather_data.items():\n",
    "                print(f\"{key}: {value}\")\n",
    "            print()\n"
   ]
  },
  {
   "cell_type": "code",
   "execution_count": 90,
   "id": "6248d0ca",
   "metadata": {},
   "outputs": [
    {
     "data": {
      "text/plain": [
       "[{'Time': '2023-08-27 12:00:00',\n",
       "  'Temperature(F)': 69.06,\n",
       "  'Wind_Chill(F)': 69.62,\n",
       "  'Humidity(%)': 84,\n",
       "  'Pressure(in)': 29.825282902159195,\n",
       "  'Wind_Speed(mph)': 9.75},\n",
       " {'Time': '2023-08-27 15:00:00',\n",
       "  'Temperature(F)': 68.63,\n",
       "  'Wind_Chill(F)': 69.24,\n",
       "  'Humidity(%)': 86,\n",
       "  'Pressure(in)': 29.825282902159195,\n",
       "  'Wind_Speed(mph)': 11.74},\n",
       " {'Time': '2023-08-27 18:00:00',\n",
       "  'Temperature(F)': 68.58,\n",
       "  'Wind_Chill(F)': 69.17,\n",
       "  'Humidity(%)': 86,\n",
       "  'Pressure(in)': 29.79575291908775,\n",
       "  'Wind_Speed(mph)': 10.29},\n",
       " {'Time': '2023-08-27 21:00:00',\n",
       "  'Temperature(F)': 70.07,\n",
       "  'Wind_Chill(F)': 70.95,\n",
       "  'Humidity(%)': 89,\n",
       "  'Pressure(in)': 29.73669295294486,\n",
       "  'Wind_Speed(mph)': 19.95}]"
      ]
     },
     "execution_count": 90,
     "metadata": {},
     "output_type": "execute_result"
    }
   ],
   "source": [
    "forecast_values"
   ]
  },
  {
   "cell_type": "code",
   "execution_count": 114,
   "id": "8d8bb301",
   "metadata": {
    "scrolled": false
   },
   "outputs": [
    {
     "name": "stdout",
     "output_type": "stream",
     "text": [
      "Weather Forecast for the Specified Time Range:\n",
      "Time: 2023-08-27 12:00:00\n",
      "Temperature(F): 69.06\n",
      "Wind_Chill(F): 69.62\n",
      "Humidity(%): 84\n",
      "Pressure(in): 29.825282902159195\n",
      "Wind_Speed(mph): 9.75\n",
      "\n",
      "Time: 2023-08-27 15:00:00\n",
      "Temperature(F): 68.63\n",
      "Wind_Chill(F): 69.24\n",
      "Humidity(%): 86\n",
      "Pressure(in): 29.825282902159195\n",
      "Wind_Speed(mph): 11.74\n",
      "\n",
      "Time: 2023-08-27 18:00:00\n",
      "Temperature(F): 68.58\n",
      "Wind_Chill(F): 69.17\n",
      "Humidity(%): 86\n",
      "Pressure(in): 29.79575291908775\n",
      "Wind_Speed(mph): 10.29\n",
      "\n",
      "Time: 2023-08-27 21:00:00\n",
      "Temperature(F): 70.07\n",
      "Wind_Chill(F): 70.95\n",
      "Humidity(%): 89\n",
      "Pressure(in): 29.73669295294486\n",
      "Wind_Speed(mph): 19.95\n",
      "\n"
     ]
    }
   ],
   "source": [
    "if __name__ == \"__main__\":\n",
    "    api_key = \"ce060a4759ed58f5151e42ae95b8df59\"\n",
    "    # San Francisco Location, Cluster 11\n",
    "    latitude = 37.77\n",
    "    longitude = 122.41\n",
    "    \n",
    "    # Calculate the time range (10 hours before and 10 hours after the input time)\n",
    "    input_time = datetime.now().replace(hour=12, minute=0, second=0, microsecond=0)\n",
    "    start_time = input_time - timedelta(hours=10)\n",
    "    end_time = input_time + timedelta(hours=10)\n",
    "    \n",
    "    weather_data_list = get_weather_forecast(api_key, latitude, longitude, start_time, end_time)\n",
    "    \n",
    "    if weather_data_list:\n",
    "        print(\"Weather Forecast for the Specified Time Range:\")\n",
    "        for weather_data in weather_data_list:\n",
    "            for key, value in weather_data.items():\n",
    "                print(f\"{key}: {value}\")\n",
    "            print()\n",
    "\n",
    "        system = ctrl.ControlSystem(rules)\n",
    "        simulation = ctrl.ControlSystemSimulation(system)\n",
    "        \n",
    "        min_support = float('inf')  # Initialize with a large value\n",
    "        min_support_time = None\n",
    "            \n",
    "        for forecast_data in weather_data_list:\n",
    "                  \n",
    "            simulation.input['Temperature(F)'] = forecast_data['Temperature(F)']\n",
    "            simulation.input['Humidity(%)'] = forecast_data['Humidity(%)']\n",
    "            simulation.input['Wind_Chill(F)'] = forecast_data['Wind_Chill(F)']\n",
    "            simulation.input['Pressure(in)'] = forecast_data['Pressure(in)']\n",
    "            simulation.input['Wind_Speed(mph)'] = forecast_data['Wind_Speed(mph)']\n",
    "\n",
    "            # Compute fuzzy logic\n",
    "            simulation.compute()\n",
    "\n",
    "            # Get and store output value\n",
    "            detected_support = simulation.output['Support']\n",
    "            supports.append(detected_support)\n",
    "\n",
    "            # Check for minimum support\n",
    "            if detected_support < min_support:\n",
    "                min_support = detected_support\n",
    "                min_support_time = forecast_data['Time']"
   ]
  },
  {
   "cell_type": "code",
   "execution_count": 119,
   "id": "4ee74e4f",
   "metadata": {},
   "outputs": [
    {
     "name": "stdout",
     "output_type": "stream",
     "text": [
      "Weather Forecast for the Specified Time Range:\n",
      "Time: 2023-08-27 12:00:00\n",
      "Temperature(F): 69.06\n",
      "Wind_Chill(F): 69.62\n",
      "Humidity(%): 84\n",
      "Pressure(in): 29.825282902159195\n",
      "Wind_Speed(mph): 9.75\n",
      "\n",
      "Time: 2023-08-27 15:00:00\n",
      "Temperature(F): 68.63\n",
      "Wind_Chill(F): 69.24\n",
      "Humidity(%): 86\n",
      "Pressure(in): 29.825282902159195\n",
      "Wind_Speed(mph): 11.74\n",
      "\n",
      "Time: 2023-08-27 18:00:00\n",
      "Temperature(F): 68.58\n",
      "Wind_Chill(F): 69.17\n",
      "Humidity(%): 86\n",
      "Pressure(in): 29.79575291908775\n",
      "Wind_Speed(mph): 10.29\n",
      "\n",
      "Time: 2023-08-27 21:00:00\n",
      "Temperature(F): 70.07\n",
      "Wind_Chill(F): 70.95\n",
      "Humidity(%): 89\n",
      "Pressure(in): 29.73669295294486\n",
      "Wind_Speed(mph): 19.95\n",
      "\n",
      "Time: 2023-08-27 12:00:00, Support: 0.3845851756559618\n",
      "Time: 2023-08-27 15:00:00, Support: 0.3840860744939569\n",
      "Time: 2023-08-27 18:00:00, Support: 0.3937681716409405\n",
      "Time: 2023-08-27 21:00:00, Support: 0.4104750117393314\n",
      "List of Supports: [0.36146532509338447, 0.36146532509338447, 0.36146532509338447, 0.36146532509338447, 0.3845851756559618, 0.3840860744939569, 0.3937681716409405, 0.4104750117393314, 0.3845851756559618, 0.3845851756559618, 0.3840860744939569, 0.3937681716409405, 0.4104750117393314, 0.3845851756559618, 0.3840860744939569, 0.3937681716409405, 0.4104750117393314]\n",
      "Time related to min support: 2023-08-27 15:00:00\n"
     ]
    }
   ],
   "source": [
    "if __name__ == \"__main__\":\n",
    "    api_key = \"ce060a4759ed58f5151e42ae95b8df59\"\n",
    "    # San Francisco Location, Cluster 11\n",
    "    latitude = 37.77\n",
    "    longitude = 122.41\n",
    "    \n",
    "    # Calculate the time range (10 hours before and 10 hours after the input time)\n",
    "    input_time = datetime.now().replace(hour=12, minute=0, second=0, microsecond=0)\n",
    "    start_time = input_time - timedelta(hours=10)\n",
    "    end_time = input_time + timedelta(hours=10)\n",
    "    \n",
    "    weather_data_list = get_weather_forecast(api_key, latitude, longitude, start_time, end_time)\n",
    "    \n",
    "    if weather_data_list:\n",
    "        print(\"Weather Forecast for the Specified Time Range:\")\n",
    "        for weather_data in weather_data_list:\n",
    "            for key, value in weather_data.items():\n",
    "                print(f\"{key}: {value}\")\n",
    "            print()\n",
    "\n",
    "        system = ctrl.ControlSystem(rules)\n",
    "        simulation = ctrl.ControlSystemSimulation(system)\n",
    "            \n",
    "        min_support = float('inf')  # Initialize with a large value\n",
    "        min_support_time = None\n",
    "\n",
    "        for forecast_data in weather_data_list:\n",
    "                  \n",
    "            simulation.input['Temperature(F)'] = forecast_data['Temperature(F)']\n",
    "            simulation.input['Humidity(%)'] = forecast_data['Humidity(%)']\n",
    "            simulation.input['Wind_Chill(F)'] = forecast_data['Wind_Chill(F)']\n",
    "            simulation.input['Pressure(in)'] = forecast_data['Pressure(in)']\n",
    "            simulation.input['Wind_Speed(mph)'] = forecast_data['Wind_Speed(mph)']\n",
    "\n",
    "            # Compute fuzzy logic\n",
    "            simulation.compute()\n",
    "\n",
    "            # Get and store output value\n",
    "            detected_support = simulation.output['Support']\n",
    "            supports.append(detected_support)\n",
    "\n",
    "            # Check for minimum support\n",
    "            if detected_support < min_support:\n",
    "                min_support = detected_support\n",
    "                min_support_time = forecast_data['Time']\n",
    "\n",
    "            print(f\"Time: {forecast_data['Time']}, Support: {detected_support}\")\n",
    "\n",
    "        print(\"List of Supports:\", supports)\n",
    "        print(f\"Time related to min support: {min_support_time}\")\n"
   ]
  },
  {
   "cell_type": "code",
   "execution_count": 121,
   "id": "2fa450aa",
   "metadata": {},
   "outputs": [
    {
     "name": "stdout",
     "output_type": "stream",
     "text": [
      "Suggested Time: 2023-08-27 15:00:00\n"
     ]
    }
   ],
   "source": [
    "print(f\"Suggested Time: {min_support_time}\")"
   ]
  },
  {
   "cell_type": "code",
   "execution_count": 122,
   "id": "e5b0dd5b",
   "metadata": {},
   "outputs": [],
   "source": [
    "# Fuzzy Time Wise Recommender"
   ]
  }
 ],
 "metadata": {
  "kernelspec": {
   "display_name": "Python 3 (ipykernel)",
   "language": "python",
   "name": "python3"
  },
  "language_info": {
   "codemirror_mode": {
    "name": "ipython",
    "version": 3
   },
   "file_extension": ".py",
   "mimetype": "text/x-python",
   "name": "python",
   "nbconvert_exporter": "python",
   "pygments_lexer": "ipython3",
   "version": "3.7.16"
  }
 },
 "nbformat": 4,
 "nbformat_minor": 5
}
