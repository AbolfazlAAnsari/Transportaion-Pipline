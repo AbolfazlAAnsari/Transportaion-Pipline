{
 "cells": [
  {
   "cell_type": "markdown",
   "id": "92a67d9f",
   "metadata": {},
   "source": [
    "#### Random Forest\n",
    "Random Forest is a supervised learning algorithms. <br>\n",
    "Used for classification and regression. <br>\n",
    "\n",
    "It is a meta estimator that fits a number of decision tree classfiers on various sub-samples of the dataset \n",
    "A forest is comprised of trees. <br>\n",
    "\n",
    "The sub-sample size is controlled with the max_samples parameter if bootstrap=True(default), otherwise the whole dataset is used to build each tree.<br>\n",
    "\n",
    "The more trees it has, the more robust a forest is. <br>"
   ]
  },
  {
   "cell_type": "markdown",
   "id": "2bdbb70f",
   "metadata": {},
   "source": [
    "#### Method of random forest\n",
    "It creates decision trees on randomly selected data samples, <br>\n",
    "gets prediction from each tree and selects the bebst solution by<br>\n",
    "by means of VOTING."
   ]
  },
  {
   "cell_type": "markdown",
   "id": "204da5b8",
   "metadata": {},
   "source": [
    "#### Random Forest Parameters\n",
    "\n",
    "n_estimators: Number of Trees in this Forest, deaful = 100 \n",
    "\n",
    "criterion: {'gini', 'entropy', 'log_loss'}, defaul = 'gini'\n",
    "\n",
    "max_depth: int, default = None\n",
    "\n",
    "min_samples_split: int or float, default = 2 \n",
    "\n",
    "min_samples_leaf: int or float, default = 1\n",
    "\n",
    "max_leaf_nodes: int, defaul = None\n",
    "\n",
    "min_impurity_decrase: float, default = 0.0\n"
   ]
  },
  {
   "cell_type": "markdown",
   "id": "7c1f6692",
   "metadata": {},
   "source": [
    "##### They are same as decision trees but there are some new ones:\n",
    "\n",
    "bootstrap: bool, defaul = True\n",
    "If False, the whole dataset is used to build each tree\n",
    "\n",
    "max_samples: int or float, defaul = None\n",
    "If bootstrap = True, the number of samples to draw from X to train each base estimator."
   ]
  },
  {
   "cell_type": "code",
   "execution_count": 4,
   "id": "1978130f",
   "metadata": {},
   "outputs": [],
   "source": [
    "# Load Iris dataset\n",
    "from sklearn.datasets import load_iris\n",
    "iris = load_iris()\n",
    "\n",
    "X, Y = iris.data, iris.target"
   ]
  },
  {
   "cell_type": "code",
   "execution_count": 6,
   "id": "3434d605",
   "metadata": {},
   "outputs": [],
   "source": [
    "from sklearn.ensemble import RandomForestClassifier\n",
    "\n",
    "RF = RandomForestClassifier(n_estimators = 100)\n",
    "\n",
    "RF = RF.fit(X, Y)"
   ]
  },
  {
   "cell_type": "markdown",
   "id": "97aa6a5e",
   "metadata": {},
   "source": [
    "#### Random Forest Attributes\n"
   ]
  },
  {
   "cell_type": "code",
   "execution_count": 17,
   "id": "5097de87",
   "metadata": {
    "scrolled": true
   },
   "outputs": [
    {
     "data": {
      "text/plain": [
       "[DecisionTreeClassifier(max_features='auto', random_state=284805418),\n",
       " DecisionTreeClassifier(max_features='auto', random_state=5282453),\n",
       " DecisionTreeClassifier(max_features='auto', random_state=130874757),\n",
       " DecisionTreeClassifier(max_features='auto', random_state=1893378411),\n",
       " DecisionTreeClassifier(max_features='auto', random_state=1405306924),\n",
       " DecisionTreeClassifier(max_features='auto', random_state=482256926),\n",
       " DecisionTreeClassifier(max_features='auto', random_state=59228800),\n",
       " DecisionTreeClassifier(max_features='auto', random_state=1626378881),\n",
       " DecisionTreeClassifier(max_features='auto', random_state=1199461806),\n",
       " DecisionTreeClassifier(max_features='auto', random_state=174572943),\n",
       " DecisionTreeClassifier(max_features='auto', random_state=1360419627),\n",
       " DecisionTreeClassifier(max_features='auto', random_state=1239053597),\n",
       " DecisionTreeClassifier(max_features='auto', random_state=1899125175),\n",
       " DecisionTreeClassifier(max_features='auto', random_state=1558585770),\n",
       " DecisionTreeClassifier(max_features='auto', random_state=190268154),\n",
       " DecisionTreeClassifier(max_features='auto', random_state=1639337167),\n",
       " DecisionTreeClassifier(max_features='auto', random_state=674704406),\n",
       " DecisionTreeClassifier(max_features='auto', random_state=111301159),\n",
       " DecisionTreeClassifier(max_features='auto', random_state=1776222428),\n",
       " DecisionTreeClassifier(max_features='auto', random_state=943258212),\n",
       " DecisionTreeClassifier(max_features='auto', random_state=20417643),\n",
       " DecisionTreeClassifier(max_features='auto', random_state=754932976),\n",
       " DecisionTreeClassifier(max_features='auto', random_state=298379811),\n",
       " DecisionTreeClassifier(max_features='auto', random_state=1885064872),\n",
       " DecisionTreeClassifier(max_features='auto', random_state=2032742006),\n",
       " DecisionTreeClassifier(max_features='auto', random_state=707768009),\n",
       " DecisionTreeClassifier(max_features='auto', random_state=1440123072),\n",
       " DecisionTreeClassifier(max_features='auto', random_state=1633336930),\n",
       " DecisionTreeClassifier(max_features='auto', random_state=623849855),\n",
       " DecisionTreeClassifier(max_features='auto', random_state=739234698),\n",
       " DecisionTreeClassifier(max_features='auto', random_state=2072769267),\n",
       " DecisionTreeClassifier(max_features='auto', random_state=1009438895),\n",
       " DecisionTreeClassifier(max_features='auto', random_state=2105306726),\n",
       " DecisionTreeClassifier(max_features='auto', random_state=2054845689),\n",
       " DecisionTreeClassifier(max_features='auto', random_state=1027798544),\n",
       " DecisionTreeClassifier(max_features='auto', random_state=783248957),\n",
       " DecisionTreeClassifier(max_features='auto', random_state=297945053),\n",
       " DecisionTreeClassifier(max_features='auto', random_state=2048377770),\n",
       " DecisionTreeClassifier(max_features='auto', random_state=1551437848),\n",
       " DecisionTreeClassifier(max_features='auto', random_state=586682238),\n",
       " DecisionTreeClassifier(max_features='auto', random_state=1123827841),\n",
       " DecisionTreeClassifier(max_features='auto', random_state=1457067016),\n",
       " DecisionTreeClassifier(max_features='auto', random_state=1878811735),\n",
       " DecisionTreeClassifier(max_features='auto', random_state=1155215411),\n",
       " DecisionTreeClassifier(max_features='auto', random_state=1096284287),\n",
       " DecisionTreeClassifier(max_features='auto', random_state=1046727309),\n",
       " DecisionTreeClassifier(max_features='auto', random_state=406721797),\n",
       " DecisionTreeClassifier(max_features='auto', random_state=767145057),\n",
       " DecisionTreeClassifier(max_features='auto', random_state=1183189446),\n",
       " DecisionTreeClassifier(max_features='auto', random_state=630576442),\n",
       " DecisionTreeClassifier(max_features='auto', random_state=1959160938),\n",
       " DecisionTreeClassifier(max_features='auto', random_state=1053434093),\n",
       " DecisionTreeClassifier(max_features='auto', random_state=1043682083),\n",
       " DecisionTreeClassifier(max_features='auto', random_state=1770328852),\n",
       " DecisionTreeClassifier(max_features='auto', random_state=917094399),\n",
       " DecisionTreeClassifier(max_features='auto', random_state=294203335),\n",
       " DecisionTreeClassifier(max_features='auto', random_state=1921015665),\n",
       " DecisionTreeClassifier(max_features='auto', random_state=528820048),\n",
       " DecisionTreeClassifier(max_features='auto', random_state=2015898671),\n",
       " DecisionTreeClassifier(max_features='auto', random_state=1654920770),\n",
       " DecisionTreeClassifier(max_features='auto', random_state=1206744117),\n",
       " DecisionTreeClassifier(max_features='auto', random_state=512464336),\n",
       " DecisionTreeClassifier(max_features='auto', random_state=160918974),\n",
       " DecisionTreeClassifier(max_features='auto', random_state=738378265),\n",
       " DecisionTreeClassifier(max_features='auto', random_state=1210761959),\n",
       " DecisionTreeClassifier(max_features='auto', random_state=610667561),\n",
       " DecisionTreeClassifier(max_features='auto', random_state=2105953192),\n",
       " DecisionTreeClassifier(max_features='auto', random_state=1717727038),\n",
       " DecisionTreeClassifier(max_features='auto', random_state=30690957),\n",
       " DecisionTreeClassifier(max_features='auto', random_state=1739923622),\n",
       " DecisionTreeClassifier(max_features='auto', random_state=1240040165),\n",
       " DecisionTreeClassifier(max_features='auto', random_state=950263639),\n",
       " DecisionTreeClassifier(max_features='auto', random_state=1522879877),\n",
       " DecisionTreeClassifier(max_features='auto', random_state=729950072),\n",
       " DecisionTreeClassifier(max_features='auto', random_state=1775614812),\n",
       " DecisionTreeClassifier(max_features='auto', random_state=1651592781),\n",
       " DecisionTreeClassifier(max_features='auto', random_state=509948856),\n",
       " DecisionTreeClassifier(max_features='auto', random_state=652693826),\n",
       " DecisionTreeClassifier(max_features='auto', random_state=1120734110),\n",
       " DecisionTreeClassifier(max_features='auto', random_state=1417915203),\n",
       " DecisionTreeClassifier(max_features='auto', random_state=1675530362),\n",
       " DecisionTreeClassifier(max_features='auto', random_state=720533668),\n",
       " DecisionTreeClassifier(max_features='auto', random_state=1446957808),\n",
       " DecisionTreeClassifier(max_features='auto', random_state=82763265),\n",
       " DecisionTreeClassifier(max_features='auto', random_state=890861536),\n",
       " DecisionTreeClassifier(max_features='auto', random_state=1970876579),\n",
       " DecisionTreeClassifier(max_features='auto', random_state=636627252),\n",
       " DecisionTreeClassifier(max_features='auto', random_state=1874995642),\n",
       " DecisionTreeClassifier(max_features='auto', random_state=1334186011),\n",
       " DecisionTreeClassifier(max_features='auto', random_state=1578549997),\n",
       " DecisionTreeClassifier(max_features='auto', random_state=115711985),\n",
       " DecisionTreeClassifier(max_features='auto', random_state=773474904),\n",
       " DecisionTreeClassifier(max_features='auto', random_state=811702676),\n",
       " DecisionTreeClassifier(max_features='auto', random_state=614672756),\n",
       " DecisionTreeClassifier(max_features='auto', random_state=1651180397),\n",
       " DecisionTreeClassifier(max_features='auto', random_state=977279056),\n",
       " DecisionTreeClassifier(max_features='auto', random_state=988583558),\n",
       " DecisionTreeClassifier(max_features='auto', random_state=291776750),\n",
       " DecisionTreeClassifier(max_features='auto', random_state=769804877),\n",
       " DecisionTreeClassifier(max_features='auto', random_state=335804858)]"
      ]
     },
     "execution_count": 17,
     "metadata": {},
     "output_type": "execute_result"
    }
   ],
   "source": [
    "RF.estimators_\n",
    "# List of decision trees in this forest"
   ]
  },
  {
   "cell_type": "code",
   "execution_count": 18,
   "id": "ed985986",
   "metadata": {},
   "outputs": [
    {
     "data": {
      "text/plain": [
       "array([0, 1, 2])"
      ]
     },
     "execution_count": 18,
     "metadata": {},
     "output_type": "execute_result"
    }
   ],
   "source": [
    "RF.classes_\n",
    "# List of Classes"
   ]
  },
  {
   "cell_type": "code",
   "execution_count": 20,
   "id": "245a6f88",
   "metadata": {},
   "outputs": [
    {
     "data": {
      "text/plain": [
       "3"
      ]
     },
     "execution_count": 20,
     "metadata": {},
     "output_type": "execute_result"
    }
   ],
   "source": [
    "RF.n_classes_\n",
    "# Number of Classes"
   ]
  },
  {
   "cell_type": "code",
   "execution_count": 21,
   "id": "34fa6713",
   "metadata": {},
   "outputs": [
    {
     "data": {
      "text/plain": [
       "4"
      ]
     },
     "execution_count": 21,
     "metadata": {},
     "output_type": "execute_result"
    }
   ],
   "source": [
    "RF.n_features_in_\n",
    "# Number of features used"
   ]
  },
  {
   "cell_type": "code",
   "execution_count": 27,
   "id": "a9af7c8a",
   "metadata": {},
   "outputs": [
    {
     "data": {
      "text/plain": [
       "array([0.11628803, 0.02528572, 0.39216465, 0.46626161])"
      ]
     },
     "execution_count": 27,
     "metadata": {},
     "output_type": "execute_result"
    }
   ],
   "source": [
    "RF.feature_importances_\n",
    "# the impurity-based feature importances"
   ]
  },
  {
   "cell_type": "code",
   "execution_count": 30,
   "id": "e4fca7b8",
   "metadata": {},
   "outputs": [
    {
     "data": {
      "text/plain": [
       "array([1])"
      ]
     },
     "execution_count": 30,
     "metadata": {},
     "output_type": "execute_result"
    }
   ],
   "source": [
    "RF.predict([[6,5,5,1.56]])\n",
    "# To predict a new datapoint"
   ]
  },
  {
   "cell_type": "code",
   "execution_count": 31,
   "id": "324aa249",
   "metadata": {},
   "outputs": [
    {
     "data": {
      "text/plain": [
       "(<1x1696 sparse matrix of type '<class 'numpy.int64'>'\n",
       " \twith 545 stored elements in Compressed Sparse Row format>,\n",
       " array([   0,    7,   24,   43,   60,   81,   92,  113,  132,  149,  174,\n",
       "         195,  222,  237,  246,  267,  286,  305,  324,  343,  364,  381,\n",
       "         390,  405,  420,  433,  448,  465,  480,  495,  514,  525,  540,\n",
       "         555,  574,  595,  612,  623,  650,  665,  680,  695,  706,  721,\n",
       "         740,  755,  774,  787,  804,  819,  834,  849,  862,  875,  890,\n",
       "         905,  926,  949,  966,  983,  992, 1011, 1030, 1049, 1064, 1085,\n",
       "        1098, 1117, 1132, 1145, 1162, 1183, 1202, 1225, 1240, 1261, 1278,\n",
       "        1301, 1320, 1339, 1352, 1365, 1384, 1395, 1416, 1435, 1452, 1471,\n",
       "        1492, 1509, 1536, 1551, 1566, 1577, 1602, 1615, 1632, 1649, 1660,\n",
       "        1675, 1696]))"
      ]
     },
     "execution_count": 31,
     "metadata": {},
     "output_type": "execute_result"
    }
   ],
   "source": [
    "RF.decision_path([[6,5,5,1.56]])"
   ]
  },
  {
   "cell_type": "code",
   "execution_count": 33,
   "id": "d15cf606",
   "metadata": {},
   "outputs": [],
   "source": [
    "# RF.fit(X, Y)\n",
    "# to train the classifier"
   ]
  },
  {
   "cell_type": "code",
   "execution_count": 35,
   "id": "0924d8f5",
   "metadata": {},
   "outputs": [],
   "source": [
    "from sklearn import metrics\n",
    "from sklearn.model_selection import train_test_split\n",
    "\n",
    "RF = RandomForestClassifier()\n",
    "X_train, X_test, Y_train, Y_test = train_test_split(X, Y, test_size=0.25, random_state=1)\n",
    "RF = RF.fit(X_train, Y_train)\n",
    "Y_pred = RF.predict(X_test)"
   ]
  },
  {
   "cell_type": "code",
   "execution_count": 36,
   "id": "6d0dc119",
   "metadata": {},
   "outputs": [
    {
     "data": {
      "text/plain": [
       "0.9736842105263158"
      ]
     },
     "execution_count": 36,
     "metadata": {},
     "output_type": "execute_result"
    }
   ],
   "source": [
    "metrics.accuracy_score(Y_test, Y_pred)"
   ]
  }
 ],
 "metadata": {
  "kernelspec": {
   "display_name": "Python 3 (ipykernel)",
   "language": "python",
   "name": "python3"
  },
  "language_info": {
   "codemirror_mode": {
    "name": "ipython",
    "version": 3
   },
   "file_extension": ".py",
   "mimetype": "text/x-python",
   "name": "python",
   "nbconvert_exporter": "python",
   "pygments_lexer": "ipython3",
   "version": "3.7.16"
  }
 },
 "nbformat": 4,
 "nbformat_minor": 5
}
