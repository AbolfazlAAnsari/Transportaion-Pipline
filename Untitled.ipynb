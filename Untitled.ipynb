{
 "cells": [
  {
   "cell_type": "code",
   "execution_count": 1,
   "id": "49a6ce50",
   "metadata": {},
   "outputs": [],
   "source": [
    "SMALL_CHUNK = 100000\n",
    "\n",
    "def write_chunk(source_file, start, end, dest_name):\n",
    "    pos = start\n",
    "    source_file.seek(pos)\n",
    "    with open(dest_name, 'w') as dest_file:\n",
    "        for chunk_start in range(start, end, SMALL_CHUNK):\n",
    "            chunk_end = min(chunk_start + SMALL_CHUNK, end)\n",
    "            dest_file.write(source_file.read(chunk_end - chunk_start))\n",
    "            \n"
   ]
  },
  {
   "cell_type": "code",
   "execution_count": 6,
   "id": "9ffdaa72",
   "metadata": {},
   "outputs": [
    {
     "ename": "AttributeError",
     "evalue": "'str' object has no attribute 'seek'",
     "output_type": "error",
     "traceback": [
      "\u001b[0;31m---------------------------------------------------------------------------\u001b[0m",
      "\u001b[0;31mAttributeError\u001b[0m                            Traceback (most recent call last)",
      "\u001b[0;32m/tmp/ipykernel_1127/2656603107.py\u001b[0m in \u001b[0;36m<module>\u001b[0;34m\u001b[0m\n\u001b[0;32m----> 1\u001b[0;31m \u001b[0mwrite_chunk\u001b[0m\u001b[0;34m(\u001b[0m\u001b[0;34m'/US.csv/'\u001b[0m\u001b[0;34m,\u001b[0m\u001b[0;36m0\u001b[0m\u001b[0;34m,\u001b[0m\u001b[0;36m100000\u001b[0m\u001b[0;34m,\u001b[0m\u001b[0;34m'/US0.csv/'\u001b[0m\u001b[0;34m)\u001b[0m\u001b[0;34m\u001b[0m\u001b[0;34m\u001b[0m\u001b[0m\n\u001b[0m",
      "\u001b[0;32m/tmp/ipykernel_1127/1485921550.py\u001b[0m in \u001b[0;36mwrite_chunk\u001b[0;34m(source_file, start, end, dest_name)\u001b[0m\n\u001b[1;32m      3\u001b[0m \u001b[0;32mdef\u001b[0m \u001b[0mwrite_chunk\u001b[0m\u001b[0;34m(\u001b[0m\u001b[0msource_file\u001b[0m\u001b[0;34m,\u001b[0m \u001b[0mstart\u001b[0m\u001b[0;34m,\u001b[0m \u001b[0mend\u001b[0m\u001b[0;34m,\u001b[0m \u001b[0mdest_name\u001b[0m\u001b[0;34m)\u001b[0m\u001b[0;34m:\u001b[0m\u001b[0;34m\u001b[0m\u001b[0;34m\u001b[0m\u001b[0m\n\u001b[1;32m      4\u001b[0m     \u001b[0mpos\u001b[0m \u001b[0;34m=\u001b[0m \u001b[0mstart\u001b[0m\u001b[0;34m\u001b[0m\u001b[0;34m\u001b[0m\u001b[0m\n\u001b[0;32m----> 5\u001b[0;31m     \u001b[0msource_file\u001b[0m\u001b[0;34m.\u001b[0m\u001b[0mseek\u001b[0m\u001b[0;34m(\u001b[0m\u001b[0mpos\u001b[0m\u001b[0;34m)\u001b[0m\u001b[0;34m\u001b[0m\u001b[0;34m\u001b[0m\u001b[0m\n\u001b[0m\u001b[1;32m      6\u001b[0m     \u001b[0;32mwith\u001b[0m \u001b[0mopen\u001b[0m\u001b[0;34m(\u001b[0m\u001b[0mdest_name\u001b[0m\u001b[0;34m,\u001b[0m \u001b[0;34m'w'\u001b[0m\u001b[0;34m)\u001b[0m \u001b[0;32mas\u001b[0m \u001b[0mdest_file\u001b[0m\u001b[0;34m:\u001b[0m\u001b[0;34m\u001b[0m\u001b[0;34m\u001b[0m\u001b[0m\n\u001b[1;32m      7\u001b[0m         \u001b[0;32mfor\u001b[0m \u001b[0mchunk_start\u001b[0m \u001b[0;32min\u001b[0m \u001b[0mrange\u001b[0m\u001b[0;34m(\u001b[0m\u001b[0mstart\u001b[0m\u001b[0;34m,\u001b[0m \u001b[0mend\u001b[0m\u001b[0;34m,\u001b[0m \u001b[0mSMALL_CHUNK\u001b[0m\u001b[0;34m)\u001b[0m\u001b[0;34m:\u001b[0m\u001b[0;34m\u001b[0m\u001b[0;34m\u001b[0m\u001b[0m\n",
      "\u001b[0;31mAttributeError\u001b[0m: 'str' object has no attribute 'seek'"
     ]
    }
   ],
   "source": [
    "write_chunk('/US.csv/',0,100000,'/US0.csv/')"
   ]
  },
  {
   "cell_type": "code",
   "execution_count": 22,
   "id": "d6ffdbb4",
   "metadata": {},
   "outputs": [],
   "source": [
    "import pandas as pd\n",
    "import random"
   ]
  },
  {
   "cell_type": "code",
   "execution_count": 12,
   "id": "36f1a80b",
   "metadata": {},
   "outputs": [],
   "source": [
    "pd_dataframe = pd.read_csv('US.csv', header=0)\n",
    "number_of_rows = len(pd_dataframe.index) + 1"
   ]
  },
  {
   "cell_type": "code",
   "execution_count": 30,
   "id": "d5e69cd5",
   "metadata": {},
   "outputs": [],
   "source": [
    "split_source_file = r'/mnt/c/Users/user/Desktop/Project/US.csv'"
   ]
  },
  {
   "cell_type": "code",
   "execution_count": 35,
   "id": "44e76293",
   "metadata": {},
   "outputs": [
    {
     "name": "stdout",
     "output_type": "stream",
     "text": [
      "2845343\n",
      "Minimum Number of rows per file? : 0\n",
      "Maximum Number of rows per file? : 0\n"
     ]
    }
   ],
   "source": [
    "\n",
    "## find number of lines using traditional python\n",
    "# fh = open(split_source_file, 'r')\n",
    "# for count, line in enumerate(fh):\n",
    "#     pass\n",
    "# py_number_of_rows = count\n",
    "\n",
    "print(f\"{number_of_rows}\")\n",
    "\n",
    "## Incase of equal split, provide the same number for min and max\n",
    "min_rows = int(input(\"Minimum Number of rows per file? : \"))\n",
    "max_rows = int(input(\"Maximum Number of rows per file? : \"))\n",
    "\n",
    "file_increment = 1\n",
    "skip_rows = 1\n",
    "\n",
    "## first file random numbers\n",
    "number_of_rows_perfile = 50000\n",
    "\n",
    "while True:\n",
    "\n",
    "    if number_of_rows_perfile <= 0:\n",
    "        break\n",
    "    ## Read CSV file with number of rows and skip respective number of lines\n",
    "    df = pd.read_csv(split_source_file, header=None, nrows = number_of_rows_perfile,skiprows = skip_rows)\n",
    "\n",
    "    ## Target file name\n",
    "    split_target_file = f\"{split_source_file[:-4]}_{file_increment}.csv\"\n",
    "\n",
    "    ## write to csv \n",
    "    df.to_csv(split_target_file, index=False, header=False, mode='a', chunksize=number_of_rows_perfile)\n",
    "\n",
    "    file_increment += 1\n",
    "\n",
    "    skip_rows += number_of_rows_perfile\n",
    "\n",
    "    ## Last file handler\n",
    "    if skip_rows >= number_of_rows:\n",
    "        number_of_rows_perfile = number_of_rows - skip_rows\n",
    "    else:\n",
    "        number_of_rows_perfile = random.randint(min_rows, max_rows)"
   ]
  },
  {
   "cell_type": "code",
   "execution_count": null,
   "id": "d978d61d",
   "metadata": {},
   "outputs": [],
   "source": [
    "import csv\n",
    "reader = csv.reader(open('US.csv', 'rb'))\n",
    "\n",
    "def gen_chunks(reader, chunksize=50000):\n",
    "    \"\"\" \n",
    "    Chunk generator. Take a CSV `reader` and yield\n",
    "    `chunksize` sized slices. \n",
    "    \"\"\"\n",
    "    chunk = []\n",
    "    for index, line in enumerate(reader, 0):\n",
    "        if (index % chunksize == 0 and index > 0):\n",
    "            yield chunk\n",
    "            del chunk[:]\n",
    "        chunk.append(line)\n",
    "    yield chunk\n",
    "\n",
    "for chunk in gen_chunks(range(10), chunksize=3):\n",
    "    print chunk # process chuck"
   ]
  },
  {
   "cell_type": "code",
   "execution_count": 36,
   "id": "64bc4ccb",
   "metadata": {},
   "outputs": [],
   "source": [
    "import pandas as pd\n",
    "\n",
    "chunk_size = 50000\n",
    "butch_no = 1\n",
    "\n",
    "for chunk in pd.read_csv('/mnt/c/Users/user/Desktop/Project/US.csv', chunksize = chunk_size):\n",
    "    chunk.to_csv('US'+str(butch_no)+'.csv', index=False)\n",
    "    butch_no += 1\n",
    "    \n"
   ]
  }
 ],
 "metadata": {
  "kernelspec": {
   "display_name": "Python 3 (ipykernel)",
   "language": "python",
   "name": "python3"
  },
  "language_info": {
   "codemirror_mode": {
    "name": "ipython",
    "version": 3
   },
   "file_extension": ".py",
   "mimetype": "text/x-python",
   "name": "python",
   "nbconvert_exporter": "python",
   "pygments_lexer": "ipython3",
   "version": "3.7.15"
  }
 },
 "nbformat": 4,
 "nbformat_minor": 5
}
