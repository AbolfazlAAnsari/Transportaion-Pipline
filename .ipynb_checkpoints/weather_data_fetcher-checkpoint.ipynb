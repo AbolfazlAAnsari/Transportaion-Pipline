{
 "cells": [
  {
   "cell_type": "code",
   "execution_count": 16,
   "id": "f14cfe3f",
   "metadata": {},
   "outputs": [
    {
     "name": "stdout",
     "output_type": "stream",
     "text": [
      "Temperature: 70.79 F\n",
      "Humidity: 78 %\n",
      "Pressure: 30.061522766730754 inch\n",
      "Visibility: 6.213727366498068 mi\n",
      "Wind Speed: 1.99 mph\n",
      "Wind Chill: 71.24 F\n",
      "Precipitation: 0.0 inch\n"
     ]
    }
   ],
   "source": [
    "import requests\n",
    "\n",
    "def get_weather(api_key, lat, lon):\n",
    "    base_url = \"http://api.openweathermap.org/data/2.5/weather?\"\n",
    "    complete_url = f\"{base_url}lat={lat}&lon={lon}&appid={api_key}&units=imperial\"\n",
    "    \n",
    "    response = requests.get(complete_url)\n",
    "    data = response.json()\n",
    "\n",
    "    if data[\"cod\"] != \"404\":\n",
    "        main_data = data[\"main\"]\n",
    "        visibility = data[\"visibility\"] / 1609.34  # Convert meters to miles\n",
    "        wind_data = data[\"wind\"]\n",
    "        \n",
    "        temperature_F = main_data[\"temp\"]\n",
    "        humidity_percent = main_data[\"humidity\"]\n",
    "        pressure_inch = main_data[\"pressure\"] / 33.863886666667  # Convert hPa to inches of mercury\n",
    "        visibility_mi = visibility\n",
    "        wind_speed_mph = wind_data[\"speed\"]\n",
    "        \n",
    "        # Additional features\n",
    "        wind_chill_F = data[\"main\"][\"feels_like\"]\n",
    "        precipitation_inch = data.get(\"rain\", {}).get(\"1h\", 0) / 25.4  # Convert mm to inches\n",
    "\n",
    "        print(f\"Temperature: {temperature_F} F\")\n",
    "        print(f\"Humidity: {humidity_percent} %\")\n",
    "        print(f\"Pressure: {pressure_inch} inch\")\n",
    "        print(f\"Visibility: {visibility_mi} mi\")\n",
    "        print(f\"Wind Speed: {wind_speed_mph} mph\")\n",
    "        print(f\"Wind Chill: {wind_chill_F} F\")\n",
    "        print(f\"Precipitation: {precipitation_inch} inch\")\n",
    "    else:\n",
    "        print(\"City not found or API error\")\n",
    "\n",
    "if __name__ == \"__main__\":\n",
    "    api_key = \"ce060a4759ed58f5151e42ae95b8df59\"\n",
    "    latitude = 40.0\n",
    "    longitude = -74.0\n",
    "    get_weather(api_key, latitude, longitude)\n"
   ]
  },
  {
   "cell_type": "code",
   "execution_count": 17,
   "id": "9fcdb1cb",
   "metadata": {},
   "outputs": [],
   "source": [
    "# ok at this point we want to design our fuzzy logical exper system\n",
    "# input: < a trip + dataset itemsets and rules > \n",
    "# ouput: < maybe the possibility of accident + a suggestion for time of trip with less possibility >"
   ]
  }
 ],
 "metadata": {
  "kernelspec": {
   "display_name": "Python 3 (ipykernel)",
   "language": "python",
   "name": "python3"
  },
  "language_info": {
   "codemirror_mode": {
    "name": "ipython",
    "version": 3
   },
   "file_extension": ".py",
   "mimetype": "text/x-python",
   "name": "python",
   "nbconvert_exporter": "python",
   "pygments_lexer": "ipython3",
   "version": "3.7.16"
  }
 },
 "nbformat": 4,
 "nbformat_minor": 5
}
