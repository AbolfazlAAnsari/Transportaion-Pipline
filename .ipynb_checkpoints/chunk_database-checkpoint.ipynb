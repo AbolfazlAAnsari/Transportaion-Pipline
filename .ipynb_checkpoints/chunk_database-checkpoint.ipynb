{
 "cells": [
  {
   "cell_type": "code",
   "execution_count": 36,
   "id": "64bc4ccb",
   "metadata": {},
   "outputs": [],
   "source": [
    "import pandas as pd\n",
    "\n",
    "chunk_size = 50000\n",
    "butch_no = 1\n",
    "\n",
    "for chunk in pd.read_csv('/mnt/c/Users/user/Desktop/Project/US.csv', chunksize = chunk_size):\n",
    "    chunk.to_csv('US'+str(butch_no)+'.csv', index=False)\n",
    "    butch_no += 1\n",
    "    \n"
   ]
  }
 ],
 "metadata": {
  "kernelspec": {
   "display_name": "Python 3 (ipykernel)",
   "language": "python",
   "name": "python3"
  },
  "language_info": {
   "codemirror_mode": {
    "name": "ipython",
    "version": 3
   },
   "file_extension": ".py",
   "mimetype": "text/x-python",
   "name": "python",
   "nbconvert_exporter": "python",
   "pygments_lexer": "ipython3",
   "version": "3.7.15"
  }
 },
 "nbformat": 4,
 "nbformat_minor": 5
}
