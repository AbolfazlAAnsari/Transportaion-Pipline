{
 "cells": [
  {
   "cell_type": "code",
   "execution_count": 1,
   "id": "2f5ece0f",
   "metadata": {},
   "outputs": [],
   "source": [
    "import numpy as np\n",
    "import skfuzzy as fuzz\n",
    "from skfuzzy import control as ctrl "
   ]
  },
  {
   "cell_type": "code",
   "execution_count": 9,
   "id": "95a5e7b3",
   "metadata": {},
   "outputs": [],
   "source": [
    "# Create fuzzy variables\n",
    "\n",
    "temperature = ctrl.Antecedent(np.arange(0, 101, 1), 'temperature')\n",
    "humidity = ctrl.Antecedent(np.arange(0, 101, 1), 'humidity')\n",
    "possibility = ctrl.Consequent(np.arange(0, 101, 1), 'possibility')\n"
   ]
  },
  {
   "cell_type": "code",
   "execution_count": 10,
   "id": "1e6e4e44",
   "metadata": {},
   "outputs": [],
   "source": [
    "# Define membership functions\n",
    "\n",
    "temperature['low'] = fuzz.trimf(temperature.universe, [0, 0, 50])\n",
    "temperature['medium'] = fuzz.trimf(temperature.universe, [0, 50, 100])\n",
    "temperature['high'] = fuzz.trimf(temperature.universe, [50, 100, 100])\n",
    "\n",
    "humidity['low'] = fuzz.trimf(humidity.universe, [0, 0, 50])\n",
    "humidity['medium'] = fuzz.trimf(humidity.universe, [0, 50, 100])\n",
    "humidity['high'] = fuzz.trimf(humidity.universe, [50, 100, 100])\n",
    "\n",
    "possibility['low'] = fuzz.trimf(possibility.universe, [0, 0, 50])\n",
    "possibility['medium'] = fuzz.trimf(possibility.universe, [0, 50, 100])\n",
    "possibility['high'] = fuzz.trimf(possibility.universe, [50, 100, 100])\n",
    "\n"
   ]
  },
  {
   "cell_type": "code",
   "execution_count": 12,
   "id": "b225e413",
   "metadata": {},
   "outputs": [],
   "source": [
    "# Define fuzzy rules\n",
    "\n",
    "rule1 = ctrl.Rule( temperature['low'] & humidity['low'] , possibility['low'] )\n",
    "rule2 = ctrl.Rule( humidity['medium'] , possibility['medium'] )\n",
    "rule3 = ctrl.Rule( temperature['high'] | humidity['high'] , possibility['high'])\n"
   ]
  },
  {
   "cell_type": "code",
   "execution_count": 14,
   "id": "d58dadad",
   "metadata": {},
   "outputs": [],
   "source": [
    "# Create control system\n",
    "\n",
    "system = ctrl.ControlSystem([rule1, rule2, rule3])\n",
    "simulation = ctrl.ControlSystemSimulation(system)"
   ]
  },
  {
   "cell_type": "code",
   "execution_count": 24,
   "id": "1dd2eedd",
   "metadata": {},
   "outputs": [],
   "source": [
    "# Set input values \n",
    "\n",
    "simulation.input['temperature'] = 10\n",
    "simulation.input['humidity'] = 80\n"
   ]
  },
  {
   "cell_type": "code",
   "execution_count": 25,
   "id": "f05493e6",
   "metadata": {},
   "outputs": [],
   "source": [
    "# Compute fuzzy logic\n",
    "\n",
    "simulation.compute()\n"
   ]
  },
  {
   "cell_type": "code",
   "execution_count": 26,
   "id": "beddd8b0",
   "metadata": {},
   "outputs": [],
   "source": [
    "# Get output value\n",
    "\n",
    "possibility_value = simulation.output['possibility']"
   ]
  },
  {
   "cell_type": "code",
   "execution_count": 27,
   "id": "ddb7f995",
   "metadata": {},
   "outputs": [
    {
     "name": "stdout",
     "output_type": "stream",
     "text": [
      "Possibility of an accident: 58.78048780487803\n"
     ]
    }
   ],
   "source": [
    "print('Possibility of an accident:', possibility_value)"
   ]
  }
 ],
 "metadata": {
  "kernelspec": {
   "display_name": "Python 3 (ipykernel)",
   "language": "python",
   "name": "python3"
  },
  "language_info": {
   "codemirror_mode": {
    "name": "ipython",
    "version": 3
   },
   "file_extension": ".py",
   "mimetype": "text/x-python",
   "name": "python",
   "nbconvert_exporter": "python",
   "pygments_lexer": "ipython3",
   "version": "3.7.16"
  }
 },
 "nbformat": 4,
 "nbformat_minor": 5
}
