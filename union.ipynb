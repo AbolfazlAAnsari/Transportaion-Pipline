{
 "cells": [
  {
   "cell_type": "code",
   "execution_count": 14,
   "id": "e1dfd2d8",
   "metadata": {},
   "outputs": [],
   "source": [
    "import os\n",
    "import pandas as pd\n",
    "from pathlib import Path"
   ]
  },
  {
   "cell_type": "code",
   "execution_count": 16,
   "id": "0890c8e3",
   "metadata": {},
   "outputs": [
    {
     "name": "stdout",
     "output_type": "stream",
     "text": [
      "/mnt/c/Users/user/desktop/Project/code/Transportaion-Pipline\n"
     ]
    },
    {
     "data": {
      "text/plain": [
       "PosixPath('/mnt/c/Users/user/desktop/Project/data')"
      ]
     },
     "execution_count": 16,
     "metadata": {},
     "output_type": "execute_result"
    }
   ],
   "source": [
    "# get absolute path\n",
    "abs_path = Path.cwd()\n",
    "print(abs_path)\n",
    "data_address = abs_path.parent.parent / 'data/'\n",
    "data_address"
   ]
  },
  {
   "cell_type": "code",
   "execution_count": 17,
   "id": "793a46da",
   "metadata": {},
   "outputs": [
    {
     "data": {
      "text/plain": [
       "['.ipynb_checkpoints',\n",
       " 'test.csv',\n",
       " 'US1.csv',\n",
       " 'US10.csv',\n",
       " 'US11.csv',\n",
       " 'US12.csv',\n",
       " 'US13.csv',\n",
       " 'US14.csv',\n",
       " 'US15.csv',\n",
       " 'US16.csv',\n",
       " 'US17.csv',\n",
       " 'US18.csv',\n",
       " 'US19.csv',\n",
       " 'US2.csv',\n",
       " 'US20.csv',\n",
       " 'US21.csv',\n",
       " 'US22.csv',\n",
       " 'US23.csv',\n",
       " 'US24.csv',\n",
       " 'US25.csv',\n",
       " 'US26.csv',\n",
       " 'US27.csv',\n",
       " 'US28.csv',\n",
       " 'US29.csv',\n",
       " 'US3.csv',\n",
       " 'US30.csv',\n",
       " 'US31.csv',\n",
       " 'US32.csv',\n",
       " 'US33.csv',\n",
       " 'US34.csv',\n",
       " 'US35.csv',\n",
       " 'US36.csv',\n",
       " 'US37.csv',\n",
       " 'US38.csv',\n",
       " 'US39.csv',\n",
       " 'US4.csv',\n",
       " 'US40.csv',\n",
       " 'US41.csv',\n",
       " 'US42.csv',\n",
       " 'US43.csv',\n",
       " 'US44.csv',\n",
       " 'US45.csv',\n",
       " 'US46.csv',\n",
       " 'US47.csv',\n",
       " 'US48.csv',\n",
       " 'US49.csv',\n",
       " 'US5.csv',\n",
       " 'US50.csv',\n",
       " 'US51.csv',\n",
       " 'US52.csv',\n",
       " 'US53.csv',\n",
       " 'US54.csv',\n",
       " 'US55.csv',\n",
       " 'US56.csv',\n",
       " 'US57.csv',\n",
       " 'US6.csv',\n",
       " 'US7.csv',\n",
       " 'US8.csv',\n",
       " 'US9.csv']"
      ]
     },
     "execution_count": 17,
     "metadata": {},
     "output_type": "execute_result"
    }
   ],
   "source": [
    "os.listdir(data_address)"
   ]
  },
  {
   "cell_type": "code",
   "execution_count": 18,
   "id": "1fbb04a4",
   "metadata": {},
   "outputs": [],
   "source": [
    "file_list = os.listdir(data_address)"
   ]
  },
  {
   "cell_type": "code",
   "execution_count": 21,
   "id": "23a3922a",
   "metadata": {},
   "outputs": [
    {
     "data": {
      "text/plain": [
       "['US1.csv',\n",
       " 'US10.csv',\n",
       " 'US11.csv',\n",
       " 'US12.csv',\n",
       " 'US13.csv',\n",
       " 'US14.csv',\n",
       " 'US15.csv',\n",
       " 'US16.csv',\n",
       " 'US17.csv',\n",
       " 'US18.csv',\n",
       " 'US19.csv',\n",
       " 'US2.csv',\n",
       " 'US20.csv',\n",
       " 'US21.csv',\n",
       " 'US22.csv',\n",
       " 'US23.csv',\n",
       " 'US24.csv',\n",
       " 'US25.csv',\n",
       " 'US26.csv',\n",
       " 'US27.csv',\n",
       " 'US28.csv',\n",
       " 'US29.csv',\n",
       " 'US3.csv',\n",
       " 'US30.csv',\n",
       " 'US31.csv',\n",
       " 'US32.csv',\n",
       " 'US33.csv',\n",
       " 'US34.csv',\n",
       " 'US35.csv',\n",
       " 'US36.csv',\n",
       " 'US37.csv',\n",
       " 'US38.csv',\n",
       " 'US39.csv',\n",
       " 'US4.csv',\n",
       " 'US40.csv',\n",
       " 'US41.csv',\n",
       " 'US42.csv',\n",
       " 'US43.csv',\n",
       " 'US44.csv',\n",
       " 'US45.csv',\n",
       " 'US46.csv',\n",
       " 'US47.csv',\n",
       " 'US48.csv',\n",
       " 'US49.csv',\n",
       " 'US5.csv',\n",
       " 'US50.csv',\n",
       " 'US51.csv',\n",
       " 'US52.csv',\n",
       " 'US53.csv',\n",
       " 'US54.csv',\n",
       " 'US55.csv',\n",
       " 'US56.csv',\n",
       " 'US57.csv',\n",
       " 'US6.csv',\n",
       " 'US7.csv',\n",
       " 'US8.csv',\n",
       " 'US9.csv']"
      ]
     },
     "execution_count": 21,
     "metadata": {},
     "output_type": "execute_result"
    }
   ],
   "source": [
    "us_csv_files = [file for file in file_list if file.startswith('US') and file.endswith('.csv')]\n",
    "us_csv_files"
   ]
  },
  {
   "cell_type": "code",
   "execution_count": 22,
   "id": "ccce0393",
   "metadata": {},
   "outputs": [],
   "source": [
    "combined_data = pd.DataFrame()"
   ]
  },
  {
   "cell_type": "code",
   "execution_count": 25,
   "id": "bf10a1b0",
   "metadata": {},
   "outputs": [],
   "source": [
    "for file in us_csv_files:\n",
    "    file_path = os.path.join(data_address, file)\n",
    "    df = pd.read_csv(file_path)\n",
    "    combined_data = pd.concat([combined_data, df], ignore_index=True)\n",
    "    \n",
    "combined_data.to_csv('US.csv', index=False)"
   ]
  }
 ],
 "metadata": {
  "kernelspec": {
   "display_name": "Python 3 (ipykernel)",
   "language": "python",
   "name": "python3"
  },
  "language_info": {
   "codemirror_mode": {
    "name": "ipython",
    "version": 3
   },
   "file_extension": ".py",
   "mimetype": "text/x-python",
   "name": "python",
   "nbconvert_exporter": "python",
   "pygments_lexer": "ipython3",
   "version": "3.7.16"
  }
 },
 "nbformat": 4,
 "nbformat_minor": 5
}
