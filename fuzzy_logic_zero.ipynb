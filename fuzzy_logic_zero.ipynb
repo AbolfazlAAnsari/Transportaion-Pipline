{
 "cells": [
  {
   "cell_type": "code",
   "execution_count": 1,
   "id": "9f5308a8",
   "metadata": {},
   "outputs": [],
   "source": [
    "import numpy as np\n",
    "import skfuzzy as fuzz\n",
    "from skfuzzy import control as ctrl "
   ]
  },
  {
   "cell_type": "code",
   "execution_count": 2,
   "id": "3e3dd68a",
   "metadata": {},
   "outputs": [],
   "source": [
    "# Create fuzzy variables\n",
    "\n",
    "temperature = ctrl.Antecedent(np.arange(0, 101, 1), 'temperature')\n",
    "humidity = ctrl.Antecedent(np.arange(0, 101, 1), 'humidity')\n",
    "possibility = ctrl.Consequent(np.arange(0, 101, 1), 'possibility')\n"
   ]
  },
  {
   "cell_type": "code",
   "execution_count": 3,
   "id": "a44f7d7e",
   "metadata": {},
   "outputs": [],
   "source": [
    "# Define membership functions\n",
    "\n",
    "temperature['low'] = fuzz.trimf(temperature.universe, [0, 0, 50])\n",
    "temperature['medium'] = fuzz.trimf(temperature.universe, [0, 50, 100])\n",
    "temperature['high'] = fuzz.trimf(temperature.universe, [50, 100, 100])\n",
    "\n",
    "humidity['low'] = fuzz.trimf(humidity.universe, [0, 0, 50])\n",
    "humidity['medium'] = fuzz.trimf(humidity.universe, [0, 50, 100])\n",
    "humidity['high'] = fuzz.trimf(humidity.universe, [50, 100, 100])\n",
    "\n",
    "\n",
    "# Add in the output, Severity and Count variables\n",
    "possibility['low'] = fuzz.trimf(possibility.universe, [0, 0, 50])\n",
    "possibility['medium'] = fuzz.trimf(possibility.universe, [0, 50, 100])\n",
    "possibility['high'] = fuzz.trimf(possibility.universe, [50, 100, 100])\n",
    "\n",
    "# Put the dynamic thresholds here to cast fuzy variables"
   ]
  },
  {
   "cell_type": "code",
   "execution_count": 4,
   "id": "834dff39",
   "metadata": {},
   "outputs": [],
   "source": [
    "# Define fuzzy rules\n",
    "\n",
    "rule1 = ctrl.Rule( temperature['low'] & humidity['low'] , possibility['low'] )\n",
    "rule2 = ctrl.Rule( humidity['medium'] , possibility['medium'] )\n",
    "rule3 = ctrl.Rule( temperature['high'] | humidity['high'] , possibility['high'])\n"
   ]
  },
  {
   "cell_type": "code",
   "execution_count": 5,
   "id": "64dde0d7",
   "metadata": {},
   "outputs": [],
   "source": [
    "# Create control system\n",
    "\n",
    "system = ctrl.ControlSystem([rule1, rule2, rule3])\n",
    "simulation = ctrl.ControlSystemSimulation(system)"
   ]
  },
  {
   "cell_type": "code",
   "execution_count": 22,
   "id": "d622bfc8",
   "metadata": {},
   "outputs": [],
   "source": [
    "# Set input values \n",
    "\n",
    "simulation.input['temperature'] = 99\n",
    "simulation.input['humidity'] = 99\n"
   ]
  },
  {
   "cell_type": "code",
   "execution_count": 23,
   "id": "380e4501",
   "metadata": {},
   "outputs": [],
   "source": [
    "# Compute fuzzy logic\n",
    "\n",
    "simulation.compute()\n"
   ]
  },
  {
   "cell_type": "code",
   "execution_count": 24,
   "id": "bf9c50f2",
   "metadata": {},
   "outputs": [],
   "source": [
    "# Get output value\n",
    "\n",
    "possibility_value = simulation.output['possibility']"
   ]
  },
  {
   "cell_type": "code",
   "execution_count": 25,
   "id": "ee71db87",
   "metadata": {},
   "outputs": [
    {
     "name": "stdout",
     "output_type": "stream",
     "text": [
      "Possibility of an accident: 81.10183403873286\n"
     ]
    }
   ],
   "source": [
    "print('Possibility of an accident:', possibility_value)"
   ]
  }
 ],
 "metadata": {
  "kernelspec": {
   "display_name": "Python 3 (ipykernel)",
   "language": "python",
   "name": "python3"
  },
  "language_info": {
   "codemirror_mode": {
    "name": "ipython",
    "version": 3
   },
   "file_extension": ".py",
   "mimetype": "text/x-python",
   "name": "python",
   "nbconvert_exporter": "python",
   "pygments_lexer": "ipython3",
   "version": "3.7.16"
  }
 },
 "nbformat": 4,
 "nbformat_minor": 5
}
