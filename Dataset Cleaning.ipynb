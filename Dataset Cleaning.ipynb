{
 "cells": [
  {
   "cell_type": "markdown",
   "id": "58bd0ef7",
   "metadata": {},
   "source": [
    "#### Features of Dataset:\n",
    "\n",
    "    ID,\n",
    "    Severity,\n",
    "    Start_Time, \n",
    "    End_Time, \n",
    "    Start_Lat,\n",
    "    Start_Lng,\n",
    "    End_Lat,\n",
    "    End_lng,\n",
    "    Distance(mi),\n",
    "    Description,\n",
    "    Number,\n",
    "    Street,\n",
    "    Side,\n",
    "    City,\n",
    "    County,\n",
    "    State,\n",
    "    Zipcode,\n",
    "    Country, \n",
    "    Timezone,\n",
    "    Airport,_Code,\n",
    "    Weather_Timestamp,\n",
    "    Temperature(F),\n",
    "    Wind_Chill(F),\n",
    "    Humidity(%),\n",
    "    Pressure(in),\n",
    "    Visibility(mi),\n",
    "    Wind_Direction,\n",
    "    Wind_Speed(mph),\n",
    "    Precipitation(in),\n",
    "    Weather_Condition,\n",
    "    Amenity,\n",
    "    Bump,\n",
    "    Crossing,\n",
    "    Give_Way,\n",
    "    Junction,\n",
    "    No_Exit,\n",
    "    Railway,\n",
    "    Roundabout,\n",
    "    Station,\n",
    "    Stop,\n",
    "    Traffic_Calming,\n",
    "    Traffic_Signal,\n",
    "    Turning_Loop,\n",
    "    Sunrise,_Sunset,\n",
    "    Civil_Twilight,\n",
    "    Nautical_Twilight,\n",
    "    Astronomical_Twilight\n",
    "    "
   ]
  },
  {
   "cell_type": "code",
   "execution_count": null,
   "id": "ed237f45",
   "metadata": {},
   "outputs": [],
   "source": []
  }
 ],
 "metadata": {
  "kernelspec": {
   "display_name": "Python 3 (ipykernel)",
   "language": "python",
   "name": "python3"
  },
  "language_info": {
   "codemirror_mode": {
    "name": "ipython",
    "version": 3
   },
   "file_extension": ".py",
   "mimetype": "text/x-python",
   "name": "python",
   "nbconvert_exporter": "python",
   "pygments_lexer": "ipython3",
   "version": "3.7.16"
  }
 },
 "nbformat": 4,
 "nbformat_minor": 5
}
